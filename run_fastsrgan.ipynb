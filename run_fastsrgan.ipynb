{
 "cells": [
  {
   "cell_type": "code",
   "execution_count": 2,
   "id": "9566789c",
   "metadata": {},
   "outputs": [
    {
     "name": "stdout",
     "output_type": "stream",
     "text": [
      "Collecting opencv-python==4.1.1.26\n",
      "  Downloading opencv_python-4.1.1.26-cp36-cp36m-manylinux1_x86_64.whl (28.7 MB)\n",
      "\u001b[K     |████████████████████████████████| 28.7 MB 6.2 MB/s eta 0:00:01     |███████████████████████████     | 24.2 MB 6.2 MB/s eta 0:00:01\n",
      "\u001b[?25hRequirement already satisfied: numpy>=1.11.3 in /home/ec2-user/anaconda3/envs/tensorflow2_p36/lib/python3.6/site-packages (from opencv-python==4.1.1.26) (1.18.5)\n",
      "Installing collected packages: opencv-python\n",
      "  Attempting uninstall: opencv-python\n",
      "    Found existing installation: opencv-python 4.5.1.48\n",
      "    Uninstalling opencv-python-4.5.1.48:\n",
      "      Successfully uninstalled opencv-python-4.5.1.48\n",
      "Successfully installed opencv-python-4.1.1.26\n",
      "\u001b[33mWARNING: You are using pip version 21.1.2; however, version 21.2.1 is available.\n",
      "You should consider upgrading via the '/home/ec2-user/anaconda3/envs/tensorflow2_p36/bin/python -m pip install --upgrade pip' command.\u001b[0m\n",
      "Collecting tqdm\n",
      "  Downloading tqdm-4.61.2-py2.py3-none-any.whl (76 kB)\n",
      "\u001b[K     |████████████████████████████████| 76 kB 3.7 MB/s eta 0:00:011\n",
      "\u001b[?25hInstalling collected packages: tqdm\n",
      "Successfully installed tqdm-4.61.2\n",
      "\u001b[33mWARNING: You are using pip version 21.1.2; however, version 21.2.1 is available.\n",
      "You should consider upgrading via the '/home/ec2-user/anaconda3/envs/tensorflow2_p36/bin/python -m pip install --upgrade pip' command.\u001b[0m\n"
     ]
    }
   ],
   "source": [
    "!pip install opencv-python==4.1.1.26\n",
    "!pip install tqdm"
   ]
  },
  {
   "cell_type": "code",
   "execution_count": 4,
   "id": "dd7e4039",
   "metadata": {},
   "outputs": [
    {
     "name": "stdout",
     "output_type": "stream",
     "text": [
      "WARNING:tensorflow:No training configuration found in save file: the model was *not* compiled. Compile it manually.\n",
      "Loaded layer input_3\n",
      "Loaded layer conv2d_9\n",
      "Loaded layer batch_normalization_7\n",
      "Loaded layer p_re_lu\n",
      "Loaded layer expanded_conv_depthwise\n",
      "Loaded layer expanded_conv_depthwise_BN\n",
      "Loaded layer expanded_conv_depthwise_relu\n",
      "Loaded layer expanded_conv_project\n",
      "Loaded layer expanded_conv_project_BN\n",
      "Loaded layer expanded_conv_add\n",
      "Loaded layer block_1_expand\n",
      "Loaded layer block_1_expand_BN\n",
      "Loaded layer block_1_expand_relu\n",
      "Loaded layer block_1_depthwise\n",
      "Loaded layer block_1_depthwise_BN\n",
      "Loaded layer block_1_depthwise_relu\n",
      "Loaded layer block_1_project\n",
      "Loaded layer block_1_project_BN\n",
      "Loaded layer block_1_add\n",
      "Loaded layer block_2_expand\n",
      "Loaded layer block_2_expand_BN\n",
      "Loaded layer block_2_expand_relu\n",
      "Loaded layer block_2_depthwise\n",
      "Loaded layer block_2_depthwise_BN\n",
      "Loaded layer block_2_depthwise_relu\n",
      "Loaded layer block_2_project\n",
      "Loaded layer block_2_project_BN\n",
      "Loaded layer block_2_add\n",
      "Loaded layer block_3_expand\n",
      "Loaded layer block_3_expand_BN\n",
      "Loaded layer block_3_expand_relu\n",
      "Loaded layer block_3_depthwise\n",
      "Loaded layer block_3_depthwise_BN\n",
      "Loaded layer block_3_depthwise_relu\n",
      "Loaded layer block_3_project\n",
      "Loaded layer block_3_project_BN\n",
      "Loaded layer block_3_add\n",
      "Loaded layer block_4_expand\n",
      "Loaded layer block_4_expand_BN\n",
      "Loaded layer block_4_expand_relu\n",
      "Loaded layer block_4_depthwise\n",
      "Loaded layer block_4_depthwise_BN\n",
      "Loaded layer block_4_depthwise_relu\n",
      "Loaded layer block_4_project\n",
      "Loaded layer block_4_project_BN\n",
      "Loaded layer block_4_add\n",
      "Loaded layer block_5_expand\n",
      "Loaded layer block_5_expand_BN\n",
      "Loaded layer block_5_expand_relu\n",
      "Loaded layer block_5_depthwise\n",
      "Loaded layer block_5_depthwise_BN\n",
      "Loaded layer block_5_depthwise_relu\n",
      "Loaded layer block_5_project\n",
      "Loaded layer block_5_project_BN\n",
      "Loaded layer block_5_add\n",
      "Loaded layer conv2d_10\n",
      "Loaded layer batch_normalization_8\n",
      "Loaded layer add\n",
      "Loaded layer conv2d_11\n",
      "Loaded layer tf_op_layer_DepthToSpace\n",
      "Loaded layer p_re_lu_1\n",
      "Loaded layer conv2d_12\n",
      "Loaded layer tf_op_layer_DepthToSpace_1\n",
      "Loaded layer p_re_lu_2\n",
      "Loaded layer conv2d_13\n",
      "  0%|                                                  | 0/2179 [00:00<?, ?it/s]WARNING:tensorflow:Model was constructed with shape Tensor(\"input_1:0\", shape=(None, 96, 96, 3), dtype=float32) for input (None, 96, 96, 3), but it was re-called on a Tensor with incompatible shape (None, 720, 1280, 3).\n",
      "WARNING:tensorflow:Model was constructed with shape Tensor(\"input_3_2:0\", shape=(None, 96, 96, 3), dtype=float32) for input (None, 96, 96, 3), but it was re-called on a Tensor with incompatible shape (None, 720, 1280, 3).\n",
      "100%|███████████████████████████████████████| 2179/2179 [32:45<00:00,  1.11it/s]\n"
     ]
    }
   ],
   "source": [
    "!python infer.py --image_dir '../data/gammacorrect_images' --output_dir '../data/sr_output'"
   ]
  },
  {
   "cell_type": "code",
   "execution_count": null,
   "id": "60902130",
   "metadata": {},
   "outputs": [],
   "source": []
  }
 ],
 "metadata": {
  "kernelspec": {
   "display_name": "conda_tensorflow2_p36",
   "language": "python",
   "name": "conda_tensorflow2_p36"
  },
  "language_info": {
   "codemirror_mode": {
    "name": "ipython",
    "version": 3
   },
   "file_extension": ".py",
   "mimetype": "text/x-python",
   "name": "python",
   "nbconvert_exporter": "python",
   "pygments_lexer": "ipython3",
   "version": "3.6.13"
  }
 },
 "nbformat": 4,
 "nbformat_minor": 5
}
