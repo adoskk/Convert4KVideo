{
 "cells": [
  {
   "cell_type": "code",
   "execution_count": 11,
   "id": "ba72acee",
   "metadata": {},
   "outputs": [
    {
     "name": "stdout",
     "output_type": "stream",
     "text": [
      "Requirement already satisfied: sk-video in /home/ec2-user/anaconda3/envs/pytorch_p36/lib/python3.6/site-packages (1.1.10)\n",
      "Requirement already satisfied: scipy in /home/ec2-user/anaconda3/envs/pytorch_p36/lib/python3.6/site-packages (from sk-video) (1.5.3)\n",
      "Requirement already satisfied: numpy in /home/ec2-user/anaconda3/envs/pytorch_p36/lib/python3.6/site-packages (from sk-video) (1.19.5)\n",
      "\u001b[33mWARNING: You are using pip version 21.1.2; however, version 21.2.1 is available.\n",
      "You should consider upgrading via the '/home/ec2-user/anaconda3/envs/pytorch_p36/bin/python -m pip install --upgrade pip' command.\u001b[0m\n",
      "Requirement already satisfied: ffmpeg-python in /home/ec2-user/anaconda3/envs/pytorch_p36/lib/python3.6/site-packages (0.2.0)\n",
      "Requirement already satisfied: future in /home/ec2-user/anaconda3/envs/pytorch_p36/lib/python3.6/site-packages (from ffmpeg-python) (0.18.2)\n",
      "\u001b[33mWARNING: You are using pip version 21.1.2; however, version 21.2.1 is available.\n",
      "You should consider upgrading via the '/home/ec2-user/anaconda3/envs/pytorch_p36/bin/python -m pip install --upgrade pip' command.\u001b[0m\n",
      "Collecting gdown\n",
      "  Using cached gdown-3.13.0-py3-none-any.whl\n",
      "Requirement already satisfied: tqdm in /home/ec2-user/anaconda3/envs/pytorch_p36/lib/python3.6/site-packages (from gdown) (4.57.0)\n",
      "Requirement already satisfied: filelock in /home/ec2-user/anaconda3/envs/pytorch_p36/lib/python3.6/site-packages (from gdown) (3.0.12)\n",
      "Requirement already satisfied: requests[socks]>=2.12.0 in /home/ec2-user/anaconda3/envs/pytorch_p36/lib/python3.6/site-packages (from gdown) (2.25.1)\n",
      "Requirement already satisfied: six in /home/ec2-user/anaconda3/envs/pytorch_p36/lib/python3.6/site-packages (from gdown) (1.15.0)\n",
      "Requirement already satisfied: chardet<5,>=3.0.2 in /home/ec2-user/anaconda3/envs/pytorch_p36/lib/python3.6/site-packages (from requests[socks]>=2.12.0->gdown) (3.0.4)\n",
      "Requirement already satisfied: certifi>=2017.4.17 in /home/ec2-user/anaconda3/envs/pytorch_p36/lib/python3.6/site-packages (from requests[socks]>=2.12.0->gdown) (2021.5.30)\n",
      "Requirement already satisfied: idna<3,>=2.5 in /home/ec2-user/anaconda3/envs/pytorch_p36/lib/python3.6/site-packages (from requests[socks]>=2.12.0->gdown) (2.10)\n",
      "Requirement already satisfied: urllib3<1.27,>=1.21.1 in /home/ec2-user/anaconda3/envs/pytorch_p36/lib/python3.6/site-packages (from requests[socks]>=2.12.0->gdown) (1.26.5)\n",
      "Requirement already satisfied: PySocks!=1.5.7,>=1.5.6 in /home/ec2-user/anaconda3/envs/pytorch_p36/lib/python3.6/site-packages (from requests[socks]>=2.12.0->gdown) (1.7.1)\n",
      "Installing collected packages: gdown\n",
      "Successfully installed gdown-3.13.0\n",
      "\u001b[33mWARNING: You are using pip version 21.1.2; however, version 21.2.1 is available.\n",
      "You should consider upgrading via the '/home/ec2-user/anaconda3/envs/pytorch_p36/bin/python -m pip install --upgrade pip' command.\u001b[0m\n"
     ]
    }
   ],
   "source": [
    "!pip install sk-video\n",
    "!pip install ffmpeg-python\n",
    "!pip install gdown"
   ]
  },
  {
   "cell_type": "code",
   "execution_count": 12,
   "id": "c37d6a38",
   "metadata": {},
   "outputs": [
    {
     "name": "stdout",
     "output_type": "stream",
     "text": [
      "Downloading...\n",
      "From: https://drive.google.com/uc?id=1wsQIhHZ3Eg4_AfCXItFKqqyDMB4NS0Yd\n",
      "To: /home/ec2-user/SageMaker/hackday/July2021/final_version/Convert4KVideo/arXiv2020-RIFE/RIFE_trained_model_HDv2.zip\n",
      "105MB [00:00, 150MB/s] \n"
     ]
    }
   ],
   "source": [
    "!gdown --id 1wsQIhHZ3Eg4_AfCXItFKqqyDMB4NS0Yd"
   ]
  },
  {
   "cell_type": "code",
   "execution_count": 14,
   "id": "e62f2189",
   "metadata": {},
   "outputs": [
    {
     "name": "stdout",
     "output_type": "stream",
     "text": [
      "Archive:  RIFE_trained_model_HDv2.zip\n",
      "   creating: train_log/\n",
      "  inflating: train_log/flownet.pkl   \n",
      "  inflating: train_log/unet.pkl      \n",
      "  inflating: train_log/contextnet.pkl  \n"
     ]
    }
   ],
   "source": [
    "!unzip RIFE_trained_model_HDv2.zip"
   ]
  },
  {
   "cell_type": "code",
   "execution_count": null,
   "id": "cf3863f1",
   "metadata": {},
   "outputs": [
    {
     "name": "stdout",
     "output_type": "stream",
     "text": [
      "Loaded v2.x HD model.\n",
      "../data/SR_BattlestarGalactica_1mincut_1080_720_24fps.mp4, 2178.0 frames in total, 24.0FPS to 96.0FPS\n",
      "The audio will be merged after interpolation process\n",
      " 48%|█████████████████▋                   | 1044/2178.0 [17:56<21:16,  1.13s/it]"
     ]
    }
   ],
   "source": [
    "!python inference_video.py --exp=2 --video=\"../data/SR_BattlestarGalactica_1mincut_1080_720_24fps.mp4\" --scale=0.5"
   ]
  },
  {
   "cell_type": "code",
   "execution_count": null,
   "id": "d3599985",
   "metadata": {},
   "outputs": [],
   "source": []
  },
  {
   "cell_type": "code",
   "execution_count": null,
   "id": "5da00247",
   "metadata": {},
   "outputs": [],
   "source": []
  }
 ],
 "metadata": {
  "kernelspec": {
   "display_name": "conda_pytorch_p36",
   "language": "python",
   "name": "conda_pytorch_p36"
  },
  "language_info": {
   "codemirror_mode": {
    "name": "ipython",
    "version": 3
   },
   "file_extension": ".py",
   "mimetype": "text/x-python",
   "name": "python",
   "nbconvert_exporter": "python",
   "pygments_lexer": "ipython3",
   "version": "3.6.13"
  }
 },
 "nbformat": 4,
 "nbformat_minor": 5
}
